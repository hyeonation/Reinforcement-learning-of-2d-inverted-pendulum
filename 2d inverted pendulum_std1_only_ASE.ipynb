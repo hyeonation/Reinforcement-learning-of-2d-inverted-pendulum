{
 "cells": [
  {
   "cell_type": "markdown",
   "metadata": {},
   "source": [
    "# 기본적으로 F에 noise를 준다.(크레인의 기울기에 의한 중력으로 가정)\n",
    "# 가장 안정한 순간에 r=1, y=0 으로 하고, eligibility를 초기화한다.\n",
    "\n",
    "\n"
   ]
  },
  {
   "cell_type": "markdown",
   "metadata": {},
   "source": [
    "# 데이터 분류\n",
    "data_fail         : 실패시 모든 trial에 대한 success_times, fail_reason, 마지막 dec info(4개) \n",
    "\n",
    "          분류할 때 key가 됨\n",
    "\n",
    "data_dt           : success step / x loc / x vel / theta loc / theta vel / I index / Wi / y / elig"
   ]
  },
  {
   "cell_type": "code",
   "execution_count": 1,
   "metadata": {},
   "outputs": [
    {
     "data": {
      "text/plain": [
       "['',\n",
       " 'C:\\\\Program Files\\\\Python36\\\\python36.zip',\n",
       " 'C:\\\\Program Files\\\\Python36\\\\DLLs',\n",
       " 'C:\\\\Program Files\\\\Python36\\\\lib',\n",
       " 'C:\\\\Program Files\\\\Python36',\n",
       " 'C:\\\\Program Files\\\\Python36\\\\lib\\\\site-packages',\n",
       " 'C:\\\\Program Files\\\\Python36\\\\lib\\\\site-packages\\\\IPython\\\\extensions',\n",
       " 'C:\\\\Users\\\\동현\\\\.ipython']"
      ]
     },
     "execution_count": 1,
     "metadata": {},
     "output_type": "execute_result"
    }
   ],
   "source": [
    "import sys\n",
    "sys.path"
   ]
  },
  {
   "cell_type": "code",
   "execution_count": 2,
   "metadata": {
    "collapsed": true
   },
   "outputs": [],
   "source": [
    "sys.path.insert(0, 'C:\\\\ProgramData\\\\Miniconda3\\\\lib\\\\site-packages')"
   ]
  },
  {
   "cell_type": "code",
   "execution_count": 1,
   "metadata": {
    "scrolled": true
   },
   "outputs": [],
   "source": [
    "# 패키지 \n",
    "import numpy as np\n",
    "import matplotlib.pyplot as plt\n",
    "import time\n",
    "import matplotlib.ticker as ticker\n",
    "\n",
    "save_path = 'data/2d_inverted_pendulum_std1_only_ASE_'"
   ]
  },
  {
   "cell_type": "code",
   "execution_count": 2,
   "metadata": {},
   "outputs": [],
   "source": [
    "# 함수 정의\n",
    "# 가속도 계산\n",
    "def acc_theta(force, theta_loc, theta_vel, x_vel):\n",
    "    a = g*np.sin(theta_loc)  # radian인지, 각도인지 check\n",
    "    b = np.cos(theta_loc) * (- force - m*l*theta_vel*theta_vel*np.sin(theta_loc) + uc*sgn(x_vel))/(mc+m)\n",
    "    c = -up * theta_vel / (m*l)\n",
    "    d = l*(4/3 - m*(np.cos(theta_loc))**2 / (mc + m))\n",
    "    \n",
    "    return (a + b + c)/d\n",
    "\n",
    "def acc_x(force, theta_acc, theta_vel, theta_loc, x_vel):\n",
    "    b = m*l*(theta_vel**2*np.sin(theta_loc) - theta_acc*np.cos(theta_loc))\n",
    "    c = -uc*sgn(x_vel)\n",
    "    \n",
    "    return (force + b + c)/(mc + m)\n",
    "\n",
    "# 실패했을 때 처벌\n",
    "def failure_test(x_loc, theta_loc):\n",
    "    \n",
    "    if (range_failure_x[0] <= x_loc <= range_failure_x[1]) and (range_failure_theta[0] <= theta_loc <= range_failure_theta[1]):\n",
    "        return 0\n",
    "    \n",
    "    else :\n",
    "        return -1\n",
    "    \n",
    "# 실패 이유\n",
    "# 실패 했을 때만 사용함\n",
    "# x loc (0,1), theta loc (2,3)으로 표기 한다.\n",
    "def fail_reason(x_loc, theta_loc):\n",
    "    \n",
    "    reason1 = -10\n",
    "    reason2 = -10\n",
    "    \n",
    "    # x loc\n",
    "    if x_loc < range_failure_x[0]:\n",
    "        reason1 = 0\n",
    "    \n",
    "    elif x_loc > range_failure_x[1]:\n",
    "        reason1 = 1\n",
    "    \n",
    "    # theta loc\n",
    "    if theta_loc < range_failure_theta[0]:\n",
    "        reason2 = 2\n",
    "    \n",
    "    elif theta_loc > range_failure_theta[1]:\n",
    "        reason2 = 3\n",
    "    \n",
    "    # 두 이유 중 하나만 있을 때\n",
    "    if ((reason1 + reason2) < 0):\n",
    "        \n",
    "        if reason1 > reason2 :\n",
    "            return reason1\n",
    "        else :\n",
    "            return reason2\n",
    "    \n",
    "    # 두 이유 모두 작용할 때\n",
    "    else :\n",
    "        return reason1*10 + reason2\n",
    "    \n",
    "# 입력에 대한 Index, state 출력\n",
    "def decoder(x_loc, x_vel, theta_loc, theta_vel):\n",
    "    state = np.zeros((162))\n",
    "  \n",
    "    for ii, xx in enumerate(range_x_loc):\n",
    "        index_x_loc = ii\n",
    "        \n",
    "        if x_loc < xx:\n",
    "            break\n",
    "        else : \n",
    "            index_x_loc += 1\n",
    "            \n",
    "    for ii, xx in enumerate(range_x_vel):\n",
    "        index_x_vel = ii\n",
    "        \n",
    "        if x_vel < xx:\n",
    "            break\n",
    "        else : \n",
    "            index_x_vel += 1     \n",
    "            \n",
    "    for ii, xx in enumerate(range_theta_loc):\n",
    "        index_theta_loc = ii\n",
    "        \n",
    "        if theta_loc < xx:\n",
    "            break\n",
    "            \n",
    "        else : \n",
    "            index_theta_loc += 1\n",
    "            \n",
    "    for ii, xx in enumerate(range_theta_vel):\n",
    "        index_theta_vel = ii\n",
    "        \n",
    "        if theta_vel < xx:\n",
    "            break\n",
    "            \n",
    "        else : \n",
    "            index_theta_vel += 1\n",
    "\n",
    "    # 162/3 = 54, 162/(3*3) = 18, 162/(3*3*6) = 3, 162/(3*3*6*3) = 1\n",
    "    Index = 54*index_x_loc + 18*index_x_vel + 3*index_theta_loc + index_theta_vel\n",
    "    \n",
    "    # 실패 안 했을 때만 1 추가하기\n",
    "    if failure_test(x_loc, theta_loc) == 0:\n",
    "        state[Index] = 1\n",
    "    \n",
    "    return Index, state\n",
    "    \n",
    "def sgn(x):\n",
    "    \n",
    "    if x >= 0 :\n",
    "        return 1\n",
    "    else :\n",
    "        return -1\n",
    "    "
   ]
  },
  {
   "cell_type": "code",
   "execution_count": 3,
   "metadata": {},
   "outputs": [],
   "source": [
    "# 상수 정의\n",
    "dt = 0.02\n",
    "sigma = 0.01\n",
    "alpha = 1000\n",
    "delta = 0.9\n",
    "\n",
    "g = 9.8\n",
    "mc = 1\n",
    "m = 0.1\n",
    "l = 0.5\n",
    "uc = 0.0005\n",
    "up = 0.000002\n",
    "max_count = 80000\n",
    "\n",
    "\n",
    "# decoder index 계산 시\n",
    "num_x_loc = 162/3\n",
    "num_x_vel = 162/3/3\n",
    "num_theta_loc = 162/3/3/6\n",
    "num_theta_vel = 162/3/3/6/3\n",
    "\n",
    "# 실패 범위\n",
    "range_failure_x = [-2.4, 2.4]\n",
    "range_failure_theta = [-12*np.pi/180, 12*np.pi/180]\n",
    "\n",
    "# decoder 범위\n",
    "range_x_loc = [-0.8, 0.8]\n",
    "range_x_vel = [-0.5, 0.5]\n",
    "range_theta_loc = np.array([-6, -1, 0, 1, 6], dtype=np.float64)\n",
    "range_theta_vel = np.array([-50, 50], dtype=np.float64)\n",
    "\n",
    "# radian으로 변경\n",
    "range_theta_loc *= np.pi/180\n",
    "range_theta_vel *= np.pi/180\n"
   ]
  },
  {
   "cell_type": "code",
   "execution_count": 54,
   "metadata": {},
   "outputs": [],
   "source": [
    "# state array 만들기\n",
    "# 각 state별 index 사전으로 보면 됨\n",
    "# 각 state별로 나온 횟수 count도 함\n",
    "\n",
    "dic_state_info = []\n",
    "\n",
    "# index 정의\n",
    "all_x_loc = [-1, 0, 1]\n",
    "all_x_vel = [-1, 0, 1]\n",
    "all_theta_loc = [-3, -2, -1, 1, 2, 3]\n",
    "all_theta_vel = [-1, 0, 1]\n",
    "\n",
    "# index 넣기\n",
    "Index = 0\n",
    "for i in all_x_loc:\n",
    "    for ii in all_x_vel:\n",
    "        for iii in all_theta_loc:\n",
    "            for iiii in all_theta_vel:\n",
    "                # 마지막(6열)은 count를 위한 공간\n",
    "                dic_state_info.append([i, ii, iii, iiii, Index, 0])\n",
    "                Index += 1"
   ]
  },
  {
   "cell_type": "code",
   "execution_count": 56,
   "metadata": {},
   "outputs": [],
   "source": [
    "# data 배열\n",
    "data_W = []\n",
    "data_fail = []         # success_times, fail_reason, 마지막 dec info(4개) \n",
    "data_dt = []       # 모든 dt 간격으로의 정보\n",
    "\n",
    "# 추가 데이터 분석\n",
    "data_elig_dt = []\n",
    "\n",
    "# 초기 weight 생성\n",
    "W = np.zeros((162))"
   ]
  },
  {
   "cell_type": "markdown",
   "metadata": {},
   "source": [
    "# 학습 Loop"
   ]
  },
  {
   "cell_type": "code",
   "execution_count": 57,
   "metadata": {
    "scrolled": true
   },
   "outputs": [
    {
     "name": "stdout",
     "output_type": "stream",
     "text": [
      "failure 1\n",
      "failure 2\n",
      "failure 3\n",
      "failure 4\n",
      "failure 5\n",
      "failure 6\n",
      "failure 7\n",
      "failure 8\n",
      "failure 9\n",
      "failure 10\n",
      "failure 11\n",
      "failure 12\n",
      "failure 13\n",
      "failure 14\n",
      "failure 15\n",
      "failure 16\n",
      "failure 17\n",
      "failure 18\n",
      "failure 19\n",
      "failure 20\n",
      "failure 21\n",
      "failure 22\n",
      "failure 23\n",
      "failure 24\n",
      "failure 25\n",
      "failure 26\n",
      "failure 27\n",
      "failure 28\n",
      "failure 29\n",
      "failure 30\n",
      "failure 31\n",
      "failure 32\n",
      "failure 33\n",
      "failure 34\n",
      "failure 35\n",
      "failure 36\n",
      "failure 37\n",
      "failure 38\n",
      "failure 39\n",
      "failure 40\n",
      "failure 41\n",
      "failure 42\n",
      "failure 43\n",
      "failure 44\n",
      "failure 45\n",
      "failure 46\n",
      "failure 47\n",
      "failure 48\n",
      "failure 49\n",
      "failure 50\n",
      "failure 51\n",
      "failure 52\n",
      "failure 53\n",
      "failure 54\n",
      "failure 55\n",
      "failure 56\n",
      "failure 57\n",
      "failure 58\n",
      "failure 59\n",
      "failure 60\n",
      "failure 61\n",
      "failure 62\n",
      "failure 63\n",
      "failure 64\n",
      "failure 65\n",
      "failure 66\n",
      "failure 67\n",
      "failure 68\n",
      "failure 69\n",
      "failure 70\n",
      "failure 71\n",
      "failure 72\n",
      "failure 73\n",
      "failure 74\n",
      "failure 75\n",
      "failure 76\n",
      "failure 77\n",
      "failure 78\n",
      "failure 79\n",
      "failure 80\n",
      "failure 81\n",
      "failure 82\n",
      "failure 83\n",
      "failure 84\n",
      "failure 85\n",
      "failure 86\n",
      "failure 87\n",
      "failure 88\n",
      "failure 89\n",
      "failure 90\n",
      "failure 91\n",
      "failure 92\n",
      "failure 93\n",
      "failure 94\n",
      "failure 95\n",
      "failure 96\n",
      "failure 97\n",
      "failure 98\n",
      "failure 99\n",
      "failure 100\n"
     ]
    }
   ],
   "source": [
    "# total trial\n",
    "total_trial_num = 5\n",
    "\n",
    "for failure_count in range(total_trial_num):\n",
    "    \n",
    "    # 실패 후 초기화함.\n",
    "    # 변수 초기화 (weight는 초기화하지 않음.)\n",
    "    x_loc = 0\n",
    "    x_vel = 0\n",
    "    theta_loc = 0\n",
    "    theta_vel = 0\n",
    "    elig = np.zeros((162))\n",
    "    \n",
    "    # decoder index\n",
    "    Index, state = decoder(x_loc, x_vel, theta_loc, theta_vel)\n",
    "    Indexes = dic_state_info[Index][:4]\n",
    "\n",
    "    \n",
    "    # dt 간격으로 저장할 list 초기화\n",
    "    d_dt = []\n",
    "    success_step = 0\n",
    "    d_elig_dt = []\n",
    "    \n",
    "    # 전 weight와 후 weight를 비교하기 위해.\n",
    "    # 데이터 저장 용.\n",
    "    W0 = W*1\n",
    "    \n",
    "    d_W = []\n",
    "    d_W.append(W0*1)\n",
    "    \n",
    "    # trial마다 같은 noise 주기 위해\n",
    "    np.random.seed(9001)\n",
    "    \n",
    "    # loop 시작\n",
    "    while success_step < max_count:\n",
    "        \n",
    "        # ASE\n",
    "        noise = np.random.normal(0, sigma)\n",
    "        X = W[Index] + noise   # noise는 gaussian dist.\n",
    "        y = sgn(X)\n",
    "        \n",
    "        # t초의 카트 미는 힘 계산\n",
    "        # 안전 범위 안에 있으면 y=0\n",
    "        force = y * 10        \n",
    "        \n",
    "        # t+dt eligibility\n",
    "        # elig = delta*elig + (1-delta)*y*state\n",
    "        elig = delta*elig + (1-delta)*y*state\n",
    "\n",
    "        \n",
    "        # t초의 data 저장, 매 dt마다.\n",
    "        # 위치 계산되기 전에 저장한다.\n",
    "        # r_hat은 나중에 계산 후 저장.\n",
    "        d_dt.append([success_step, \n",
    "                     Indexes[0], Indexes[1], Indexes[2], Indexes[3], Index,\n",
    "                     W[Index], y, elig[Index]])\n",
    "        \n",
    "        dic_state_info[Index][-1] += 1\n",
    "        \n",
    "        ####################### 시뮬레이션 t+dt update\n",
    "        # 가속도 계산\n",
    "        theta_acc = acc_theta(force, theta_loc, theta_vel, x_vel)\n",
    "        x_acc = acc_x(force, theta_acc, theta_vel, theta_loc, x_vel)\n",
    "\n",
    "        # 속도, 위치 계산\n",
    "        # Euler's methods\n",
    "        theta_vel += theta_acc*dt\n",
    "        x_vel += x_acc*dt\n",
    "\n",
    "        # 위치 update\n",
    "        theta_loc += theta_vel*dt\n",
    "        x_loc += x_vel*dt     \n",
    "        \n",
    "        #######################\n",
    "        \n",
    "        # decoder index\n",
    "        # update된 state\n",
    "        Index, state = decoder(x_loc, x_vel, theta_loc, theta_vel)\n",
    "        Indexes = dic_state_info[Index][:4]\n",
    "        \n",
    "        # reinforce 계산\n",
    "        r = failure_test(x_loc, theta_loc)\n",
    "        \n",
    "        \n",
    "        # 실패했을 때\n",
    "        if r == -1:\n",
    "            \n",
    "            # weight update\n",
    "            W += alpha * r * elig\n",
    "            \n",
    "            # end of while loop\n",
    "            # fail count 출력\n",
    "            print('failure {0}'.format(failure_count+1))\n",
    "            \n",
    "            # 저장\n",
    "            d_elig_dt.append(elig*1)\n",
    "            # r 저장\n",
    "            d_dt[-1].append(r)\n",
    "            \n",
    "            # while loop를 나간다.\n",
    "            break\n",
    "            \n",
    "        # 실패하지 않았을 때\n",
    "        else:\n",
    "            \n",
    "            # step count + 1\n",
    "            success_step += 1\n",
    "            \n",
    "            # max_count 넘겼을 때 성공 출력하기\n",
    "            if not(success_step < max_count) :\n",
    "                print('success {0}'.format(failure_count+1))\n",
    "            \n",
    "            # 저장\n",
    "            d_elig_dt.append(elig*1)\n",
    "            # r 저장\n",
    "            d_dt[-1].append(r)\n",
    "                \n",
    "    \n",
    "    # save data (data_dec_dt는 나중에 따로 계산)\n",
    "    data_fail.append(np.array([failure_count, success_step, \n",
    "                               fail_reason(x_loc, theta_loc), y, Index,\n",
    "                               Indexes[0], Indexes[1], Indexes[2], Indexes[3]]))\n",
    "    data_dt.append(d_dt)\n",
    "    d_W.append(W*1)\n",
    "    data_W.append(d_W)      # array는 복사하려면 *1을 해줘야 하더라.\n",
    "    \n",
    "    data_elig_dt.append(d_elig_dt)\n",
    "    \n",
    "    # cpu 부담 경감\n",
    "    time.sleep(0.001)\n",
    "    \n",
    "    "
   ]
  },
  {
   "cell_type": "code",
   "execution_count": 58,
   "metadata": {},
   "outputs": [],
   "source": [
    "# array로 만들어야 argsort를 쓸 수 있음\n",
    "data_fail = np.array(data_fail)\n",
    "\n",
    "# index 별 의미\n",
    "# 0 : trial count\n",
    "# 1 : success step\n",
    "# 2 : fail reason\n",
    "# 3 : 실패 했을 때 y\n",
    "# 4 : i index(0 ~ 161)\n",
    "# 5 ~ 8 : decoder state index(4 variable)"
   ]
  },
  {
   "cell_type": "code",
   "execution_count": 59,
   "metadata": {
    "scrolled": true
   },
   "outputs": [
    {
     "data": {
      "image/png": "[encoded data removed]",
      "text/plain": [
       "<Figure size 432x288 with 1 Axes>"
      ]
     },
     "metadata": {},
     "output_type": "display_data"
    }
   ],
   "source": [
    "plt.plot(data_fail[:,1])\n",
    "plt.show()"
   ]
  },
  {
   "cell_type": "code",
   "execution_count": 9,
   "metadata": {
    "scrolled": true
   },
   "outputs": [
    {
     "name": "stderr",
     "output_type": "stream",
     "text": [
      "C:\\Users\\hyeon\\AppData\\Local\\Continuum\\miniconda3\\lib\\site-packages\\numpy\\lib\\function_base.py:1128: RuntimeWarning: Mean of empty slice.\n",
      "  avg = a.mean(axis)\n",
      "C:\\Users\\hyeon\\AppData\\Local\\Continuum\\miniconda3\\lib\\site-packages\\numpy\\core\\_methods.py:80: RuntimeWarning: invalid value encountered in double_scalars\n",
      "  ret = ret.dtype.type(ret / rcount)\n"
     ]
    },
    {
     "data": {
      "image/png": "[encoded data removed]",
      "text/plain": [
       "<Figure size 432x288 with 1 Axes>"
      ]
     },
     "metadata": {},
     "output_type": "display_data"
    }
   ],
   "source": [
    "# success count plot\n",
    "# 10개씩 평균\n",
    "\n",
    "ave_success_count = []\n",
    "for i in range(len(data_fail)):\n",
    "    \n",
    "    ave_success_count.append(np.average(data_fail[i*10 : (i+1)*10, 1]))\n",
    "\n",
    "plt.plot(ave_success_count)\n",
    "# plt.ylim(ymin=0)\n",
    "plt.show()"
   ]
  },
  {
   "cell_type": "markdown",
   "metadata": {},
   "source": [
    "# Data 분석에 필요한 계산\n"
   ]
  },
  {
   "cell_type": "code",
   "execution_count": 88,
   "metadata": {
    "scrolled": true
   },
   "outputs": [],
   "source": [
    "# data 분류 후 저장\n",
    "# 계산 루프랑 분석 루프랑 분리함\n",
    "\n",
    "data_list_i_idx = []  # 중복 없이 trial마다 I index를 저장\n",
    "data_learning_W = []\n",
    "\n",
    "# data_dt 의 데이터\n",
    "# success step / x_loc / x_vel / theta_loc / theta_vel / I index / \n",
    "# Wi / y / elig / Vi / xi_elig / r_hat\n",
    "\n",
    "for fc in range(len(data_dt)):\n",
    "    \n",
    "    # 분석할 데이터\n",
    "    data_anal = np.array(data_dt[fc])\n",
    "    \n",
    "    # 중복 없이 먼저 나왔던 state 순서대로 들어간다.\n",
    "    list_i_idx = []\n",
    "    for i in data_anal[:,5]:\n",
    "        i = int(i)\n",
    "\n",
    "        try:\n",
    "            # i가 list_i_idx에 없으면 오류가 나와서 except로 이동함\n",
    "            list_i_idx.index(i)\n",
    "\n",
    "        except:\n",
    "            # 없으면 추가해준다.\n",
    "            list_i_idx.append(int(i))\n",
    "            \n",
    "    data_list_i_idx.append(list_i_idx)\n",
    "\n",
    "    \n",
    "    ###################################\n",
    "    # learning data 만들기    \n",
    "    # 위에 중복 없앤 나왔던 state만 모은 list 활용\n",
    "    d_learning_W = []\n",
    "    \n",
    "    for i in list_i_idx:\n",
    "        d_l_W = []\n",
    "\n",
    "        # state index 넣기\n",
    "        d_l_W.extend(dic_state_info[i][0:4])\n",
    "        d_l_W.append(i)\n",
    "    \n",
    "        # 학습 전 데이터 넣기\n",
    "        d_l_W.append(data_W[fc][0][i])\n",
    "        \n",
    "        # 학습 후 데이터 넣기\n",
    "        d_l_W.append(data_W[fc][1][i])\n",
    "\n",
    "        d_learning_W.append(d_l_W)\n",
    "        \n",
    "    data_learning_W.append(d_learning_W)\n",
    "    \n"
   ]
  },
  {
   "cell_type": "code",
   "execution_count": 22,
   "metadata": {
    "collapsed": true
   },
   "outputs": [],
   "source": [
    "# trial 별로 data_learning_W 메모장으로 옮기기\n",
    "# 액셀로 옮기기 위함\n",
    "\n",
    "# 저장할 데이터\n",
    "save_data = data_learning_W\n",
    "save_name = 'learning_W'\n",
    "\n",
    "# 저장할 메모장 열기\n",
    "f = open(save_path + save_name + \".txt\", 'w')\n",
    "\n",
    "# 액셀에서 수식으로 적으려고 비움.\n",
    "data_list_learning = ['', '', '', '', '', '']\n",
    "data_list_learning1 = ['x_loc', 'x_vel', 'theta_loc', 'theta_vel', 'I index', 'V']\n",
    "\n",
    "# I index 까지의 길이\n",
    "len_Iindex = data_list_learning1.index('I index') + 1\n",
    "\n",
    "for i,x in enumerate(save_data):\n",
    "    \n",
    "    # 몇 번째 시도인지 쓰기\n",
    "    f.write('f{0}'.format(i+1))\n",
    "    \n",
    "    # 한 줄 띄우기\n",
    "    f.write('\\n')\n",
    "    \n",
    "    # 전체 데이터 길이\n",
    "    len_W = len(x[0])\n",
    "  \n",
    "    # data list 넣기\n",
    "    # 마지막 것 제외\n",
    "    for xx in data_list_learning[:len_Iindex]:\n",
    "        f.write(str(xx) + '\\t')\n",
    "    \n",
    "    # W의 크기만큼\n",
    "    for ii in range(len_W - len_Iindex):\n",
    "        f.write(str(ii) + '\\t')\n",
    "        \n",
    "    f.write('\\n')\n",
    "    \n",
    "    for xx in x:\n",
    "        for xxx in xx:\n",
    "            # 정수는 그냥 쓰고, 실수형은 소수점 3자리까지만 표시\n",
    "            # 0이면 그냥 0 씀\n",
    "            if (xxx != 0) and (type(xxx) == np.float64):\n",
    "                f.write('{0:.3f}\\t'.format(xxx))\n",
    "            else :\n",
    "                f.write(str(xxx) + '\\t')\n",
    "        \n",
    "        # 한 state 다 썼으면 줄 띄우기\n",
    "        f.write('\\n')\n",
    "            \n",
    "    # i 번째 시도 다 썼으면 한 줄 띄우기\n",
    "    f.write('\\n')\n",
    "\n",
    "# 다 썼으면 메모장 닫기\n",
    "f.close()"
   ]
  },
  {
   "cell_type": "markdown",
   "metadata": {},
   "source": [
    "# 실패 state별 분석"
   ]
  },
  {
   "cell_type": "code",
   "execution_count": 81,
   "metadata": {
    "scrolled": true
   },
   "outputs": [
    {
     "data": {
      "image/png": "[encoded data removed]",
      "text/plain": [
       "<Figure size 432x288 with 1 Axes>"
      ]
     },
     "metadata": {},
     "output_type": "display_data"
    }
   ],
   "source": [
    "# state 별 점유율\n",
    "state_idx_count = np.array(dic_state_info)[:,-1]\n",
    "plt.plot(state_idx_count)\n",
    "plt.show()"
   ]
  },
  {
   "cell_type": "code",
   "execution_count": 85,
   "metadata": {
    "scrolled": true
   },
   "outputs": [
    {
     "data": {
      "text/plain": [
       "(array([  0,   1,   3,   4,   5,   7,   8,  10,  11,  13,  14,  16,  17,\n",
       "         18,  19,  21,  34,  55,  56,  58,  59,  61,  62,  64,  65,  67,\n",
       "         68,  70,  71,  72,  73,  75,  76,  79,  80,  81,  82,  85,  86,\n",
       "         88,  89,  90,  91,  93,  94,  96,  97,  99, 100, 102, 103, 105,\n",
       "        106, 127, 130, 131, 137, 140, 142, 143, 144, 145, 147, 148, 149,\n",
       "        150, 151, 153, 154, 155, 156, 157, 158, 160, 161], dtype=int64),)"
      ]
     },
     "execution_count": 85,
     "metadata": {},
     "output_type": "execute_result"
    }
   ],
   "source": [
    "# 한 번이라도 나온 state 출력\n",
    "np.nonzero(state_idx_count)"
   ]
  },
  {
   "cell_type": "code",
   "execution_count": 86,
   "metadata": {},
   "outputs": [
    {
     "name": "stdout",
     "output_type": "stream",
     "text": [
      "[ 90  71  89  71  90  90  90  90 144  89  71 161  90  88  71 143  90  55\n",
      "  18  71  73  91  90  89  71 161 160  90  71 144 106  89  71  71  71  73\n",
      "  90  71 143  17  89  72  71  90 144  71  71  73  90   1  17  71  73  71\n",
      "  90  71  72 144  17  90  71  73  90  71  71  73  90  73  73  90  89  90\n",
      " 144 157 160 144  90  71  71  71  71  90  90  17  71  73  89  90 143  71\n",
      "  71  71  90  71  90   1  71  71  71  90]\n"
     ]
    }
   ],
   "source": [
    "# 모든 실패 state 출력\n",
    "print(data_fail[:,4])"
   ]
  },
  {
   "cell_type": "code",
   "execution_count": 49,
   "metadata": {},
   "outputs": [
    {
     "data": {
      "text/plain": [
       "(array([ 1,  3, 10, 14, 19, 24, 28, 32, 33, 34, 37, 42, 45, 46, 51, 53, 55,\n",
       "        60, 63, 64, 77, 78, 79, 80, 84, 89, 90, 91, 93, 96, 97, 98],\n",
       "       dtype=int64),)"
      ]
     },
     "execution_count": 49,
     "metadata": {},
     "output_type": "execute_result"
    }
   ],
   "source": [
    "# 원하는 state index 찾기\n",
    "np.where(data_fail[:,4] == 71)"
   ]
  },
  {
   "cell_type": "code",
   "execution_count": 90,
   "metadata": {
    "scrolled": false
   },
   "outputs": [
    {
     "data": {
      "text/plain": [
       "[[0, 0, 0, 1, 0, 82, 36.17377931222148, 1, 0.09999999999999998, 0],\n",
       " [1, 0, 0, -1, 0, 79, -18.305040986046365, -1, -0.09999999999999998, 0],\n",
       " [2, 0, 0, -1, 0, 79, -18.305040986046365, -1, -0.18999999999999995, 0],\n",
       " [3, 0, 0, -1, 0, 79, -18.305040986046365, -1, -0.2709999999999999, 0],\n",
       " [4, 0, 0, 1, 0, 82, 36.17377931222148, 1, 0.16560999999999998, 0],\n",
       " [5, 0, 0, 1, 0, 82, 36.17377931222148, 1, 0.24904899999999996, 0],\n",
       " [6, 0, 0, 2, 0, 85, 165.4298838390554, 1, 0.09999999999999998, 0],\n",
       " [7, 0, 0, 1, 0, 82, 36.17377931222148, 1, 0.30172968999999994, 0],\n",
       " [8, 0, 0, 1, 0, 82, 36.17377931222148, 1, 0.3715567209999999, 0],\n",
       " [9, 0, 1, -1, 0, 97, 0.02697216055906082, 1, 0.09999999999999998, 0],\n",
       " [10, 0, 1, -2, -1, 93, -132.60509999999996, -1, -0.09999999999999998, 0],\n",
       " [11, 0, 1, -2, -1, 93, -132.60509999999996, -1, -0.18999999999999995, 0],\n",
       " [12, 0, 0, -2, 0, 76, 131.97633667490263, 1, 0.09999999999999998, 0],\n",
       " [13, 0, 1, -2, -1, 93, -132.60509999999996, -1, -0.2538999999999999, 0],\n",
       " [14, 0, 0, -2, 0, 76, 131.97633667490263, 1, 0.18099999999999997, 0],\n",
       " [15, 0, 1, -3, -1, 90, 108.99999999999997, 1, 0.09999999999999998, 0],\n",
       " [16, 0, 1, -3, -1, 90, 108.99999999999997, 1, 0.18999999999999995, 0],\n",
       " [17, 0, 1, -3, -1, 90, 108.99999999999997, 1, 0.2709999999999999, -1]]"
      ]
     },
     "execution_count": 90,
     "metadata": {},
     "output_type": "execute_result"
    }
   ],
   "source": [
    "idx = 4\n",
    "\n",
    "# dt data\n",
    "data_dt[idx]"
   ]
  },
  {
   "cell_type": "code",
   "execution_count": 91,
   "metadata": {},
   "outputs": [
    {
     "data": {
      "text/plain": [
       "[[0, 0, 1, 0, 82, 36.17377931222148, -107.77490722883513],\n",
       " [0, 0, -1, 0, 79, -18.305040986046365, 43.691066566897945],\n",
       " [0, 0, 2, 0, 85, 165.4298838390554, 134.0488242300554],\n",
       " [0, 1, -1, 0, 97, 0.02697216055906082, -43.01974883944095],\n",
       " [0, 1, -2, -1, 93, -132.60509999999996, 33.97868999999997],\n",
       " [0, 0, -2, 0, 76, 131.97633667490263, 0.027336674902642244],\n",
       " [0, 1, -3, -1, 90, 108.99999999999997, -161.99999999999991]]"
      ]
     },
     "execution_count": 91,
     "metadata": {},
     "output_type": "execute_result"
    }
   ],
   "source": [
    "# W data\n",
    "data_learning_W[idx]"
   ]
  },
  {
   "cell_type": "code",
   "execution_count": 87,
   "metadata": {
    "scrolled": false
   },
   "outputs": [],
   "source": [
    "# 실패 index 정리. count까지\n",
    "idx = data_fail[:,4].argsort()\n",
    "# print(data_fail[idx,4])\n",
    "\n",
    "fail_idx_count = []\n",
    "for i in set(data_fail[idx,4]):\n",
    "    fic = []\n",
    "    count = len(np.where(data_fail[:,4] == i)[0])\n",
    "    \n",
    "    fic.extend(dic_state_info[i][:5])\n",
    "    fic.append(count)\n",
    "    \n",
    "    fail_idx_count.append(fic)\n",
    "    \n",
    "# count 크기 순서대로 정렬\n",
    "idx_sort = np.array(fail_idx_count)[:,-1].argsort()\n",
    "fail_idx_count = np.flip(np.array(fail_idx_count)[idx_sort], 0)"
   ]
  },
  {
   "cell_type": "code",
   "execution_count": 76,
   "metadata": {},
   "outputs": [
    {
     "data": {
      "text/plain": [
       "array([[  0,  -1,   3,   1,  71,  32],\n",
       "       [  0,   1,  -3,  -1,  90,  25],\n",
       "       [  0,   0,  -3,   0,  73,   9],\n",
       "       [  0,   0,   3,   1,  89,   7],\n",
       "       [  1,   1,  -3,  -1, 144,   6],\n",
       "       [ -1,  -1,   3,   1,  17,   4],\n",
       "       [  1,   0,   3,   1, 143,   3],\n",
       "       [ -1,  -1,  -3,   0,   1,   2],\n",
       "       [  1,   1,   3,   1, 161,   2],\n",
       "       [  0,   0,  -3,  -1,  72,   2],\n",
       "       [  1,   1,   3,   0, 160,   2],\n",
       "       [  0,   1,   3,   0, 106,   1],\n",
       "       [  0,   1,  -3,   0,  91,   1],\n",
       "       [ -1,   0,  -3,  -1,  18,   1],\n",
       "       [  0,  -1,  -3,   0,  55,   1],\n",
       "       [  0,   0,   3,   0,  88,   1],\n",
       "       [  1,   1,   2,   0, 157,   1]])"
      ]
     },
     "execution_count": 76,
     "metadata": {},
     "output_type": "execute_result"
    }
   ],
   "source": [
    "# 실패가 많이 발생한 순서대로 나열\n",
    "fail_idx_count"
   ]
  },
  {
   "cell_type": "markdown",
   "metadata": {},
   "source": [
    "# Graph plot"
   ]
  },
  {
   "cell_type": "code",
   "execution_count": 10,
   "metadata": {},
   "outputs": [],
   "source": [
    "# color 정의\n",
    "data_color = ['b', 'g', 'y', 'k', 'm', 'r', 'c']"
   ]
  },
  {
   "cell_type": "code",
   "execution_count": 13,
   "metadata": {
    "scrolled": false
   },
   "outputs": [
    {
     "data": {
      "image/png": "[encoded data removed]",
      "text/plain": [
       "<Figure size 2160x864 with 1 Axes>"
      ]
     },
     "metadata": {},
     "output_type": "display_data"
    }
   ],
   "source": [
    "# r / elig\n",
    "\n",
    "# trial 선택\n",
    "idx = 2\n",
    "fig_size = (30, 12)\n",
    "text_state_size = 15\n",
    "text_legend_size = 10\n",
    "\n",
    "# data 범위 설정\n",
    "start_idx = 0\n",
    "end_idx = len(data_dt[idx])\n",
    "\n",
    "# 끝자락 데이터 더 잘 보이도록\n",
    "start_idx -= 0.5\n",
    "end_idx += 0.5\n",
    "\n",
    "# elig data\n",
    "anal_data = np.array(data_elig_dt[idx])\n",
    "name_data = 'elig'\n",
    "\n",
    "fig, ax = plt.subplots(figsize = fig_size)\n",
    "\n",
    "# title\n",
    "plt.title('failure{0}'.format(idx+1))\n",
    "\n",
    "# 기준 선\n",
    "plt.plot([0, len(data_dt[idx])-1], [0,0], '-k', linewidth=1)\n",
    "\n",
    "###############################################\n",
    "# r\n",
    "label_bool = True      # label을 하나만 넣기 위한 변수\n",
    "reinf_count = 0         # trial 안에서 몇 번째 강화인지\n",
    "\n",
    "# r data\n",
    "x = data_dt[idx][-1][-1]\n",
    "\n",
    "# data 점 찍기\n",
    "# 처음 들어가는 데이터만 label 넣음. 안 그러면 label 여러 개가 들어가짐.\n",
    "if label_bool:\n",
    "    plt.plot(len(data_dt[idx]) -1, x, '^r', label='r')\n",
    "    plt.legend(prop={'size': text_legend_size})\n",
    "    label_bool = False\n",
    "\n",
    "else :\n",
    "    plt.plot(i, x, '^r')\n",
    "\n",
    "# 숫자 표기\n",
    "reinf_count += 1\n",
    "ax.annotate(str(reinf_count), xy=(i, x), xytext=(i - 0.1, x - 0.04), \n",
    "            color='r', size=text_state_size)\n",
    "\n",
    "###############################################\n",
    "# elig\n",
    "# graph plot\n",
    "for i,x in enumerate(data_list_i_idx[idx]):\n",
    "    plt.plot(anal_data[:,x], '.' + data_color[i%len(data_color)], \n",
    "             label='{0}({1})'.format(name_data, x), \n",
    "             linewidth = 0.1)\n",
    "    plt.legend(prop={'size': text_legend_size})\n",
    "\n",
    "# I index를 넣어서 각 시간에 존재하는 state의 x elig만 찾는다.\n",
    "# index 로 넣어줄 것이므로 int로 만듦\n",
    "eachTime_state = np.array(data_dt[idx], dtype=np.int32)[:,5]\n",
    "\n",
    "for i,x in enumerate(eachTime_state):\n",
    "    \n",
    "    # 같은 state는 색깔 고정으로 나오도록\n",
    "    unique_idx = data_list_i_idx[idx].index(x)\n",
    "    \n",
    "    # state 숫자 표기\n",
    "    data_elig = anal_data[i,x]\n",
    "    ax.annotate(str(x), xy=(i, data_elig), \n",
    "                xytext=(i - 0.16, data_elig + 0.02), \n",
    "                color=data_color[unique_idx%len(data_color)], size=text_state_size)\n",
    "    \n",
    "# grid 간격 조정\n",
    "ax.xaxis.set_major_locator(ticker.MultipleLocator(5))\n",
    "\n",
    "# Or if you want different settings for the grids:\n",
    "ax.grid(which='major', alpha=0.5)\n",
    "\n",
    "plt.xlabel('trial')\n",
    "plt.ylabel('value')\n",
    "plt.xlim(xmin=start_idx, xmax=end_idx)\n",
    "fig.savefig('hhh.png')\n",
    "plt.show()"
   ]
  },
  {
   "cell_type": "code",
   "execution_count": 79,
   "metadata": {},
   "outputs": [
    {
     "data": {
      "text/plain": [
       "[0, 0, -2, 0, 76, 1026]"
      ]
     },
     "execution_count": 79,
     "metadata": {},
     "output_type": "execute_result"
    }
   ],
   "source": [
    "dic_state_info[76]"
   ]
  },
  {
   "cell_type": "code",
   "execution_count": null,
   "metadata": {
    "collapsed": true
   },
   "outputs": [],
   "source": [
    "# PV plot\n",
    "\n",
    "# 그래프 크기\n",
    "fig_size = (5,5)\n",
    "\n",
    "# 원하는 step 까지만 그래프 보기. end = -1 이면 전체 의미.\n",
    "end = -1\n",
    "\n",
    "# output x\n",
    "s11 = np.array(list_loc)[:end,0]         # x loc\n",
    "s12 = ref_x_loc * np.ones((len(t)))      # reference\n",
    "\n",
    "# output theta\n",
    "s21 = np.array(list_loc)[:end,1]         # theta loc\n",
    "s22 = ref_theta_loc * np.ones((len(t)))      # reference\n",
    "\n",
    "\n",
    "# Create two subplots\n",
    "fig, (ax1, ax2) = plt.subplots(2, figsize=fig_size)\n",
    "\n",
    "\"\"\"\n",
    "# 제목 붙이기\n",
    "str_title = \n",
    "fig.suptitle(str_title, fontsize=15)\n",
    "\"\"\"\n",
    "\n",
    "# 첫 번째 그래프 plot\n",
    "ax1.plot(t, s11, 'b-', label='PV x')\n",
    "ax1.plot(t, s12, 'y-', label='reference')\n",
    "ax1.legend(prop={'size': 10})\n",
    "ax1.set(ylabel='x loc (m)')\n",
    "# ax1.grid()\n",
    "\n",
    "# 두 번째 그래프\n",
    "\n",
    "ax2.plot(t, s21, 'b-', label='PV theta')\n",
    "ax2.plot(t, s22, 'y-', label='reference')\n",
    "ax2.legend(prop={'size': 10})\n",
    "ax2.set(ylabel='theta loc (radian)')\n",
    "# ax2.grid()                                  # grid\n",
    "\n",
    "plt.show()\n"
   ]
  },
  {
   "cell_type": "markdown",
   "metadata": {},
   "source": [
    "# data 저장"
   ]
  },
  {
   "cell_type": "code",
   "execution_count": 9,
   "metadata": {
    "collapsed": true
   },
   "outputs": [],
   "source": [
    "# dt 간격 데이터 메모장으로 옮기기\n",
    "# simulation 구현 위함\n",
    "\n",
    "# 저장할 메모장 열기\n",
    "f = open(save_path + \"dt.txt\", 'w')\n",
    "\n",
    "data_list_dt = ['step', 'x_loc', 'x_vel', 'theta_loc', 'theta_vel', 'I index',\n",
    "                'Wi', 'y', 'ei', 'r']\n",
    "\n",
    "for i,x in enumerate(data_dt):\n",
    "    \n",
    "    # 몇 번째 시도인지 쓰기\n",
    "    f.write('failure{0} \\n'.format(i+1))\n",
    "    \n",
    "    # data list 넣기\n",
    "    for xx in data_list_dt:\n",
    "        f.write(xx + '\\t')\n",
    "    f.write('\\n')\n",
    "        \n",
    "    # dt 데이터 넣기\n",
    "    # i 번째 시도\n",
    "    for xx in x:\n",
    "        # success step 별로 data 원소 넣기\n",
    "        for xxx in xx:\n",
    "            # 정수는 그냥 쓰고, 실수형은 소수점 3자리까지만 표시\n",
    "            # 0이면 그냥 0 씀\n",
    "            if (xxx != 0) and (type(xxx) == np.float64):\n",
    "                f.write('{0:.3f}\\t'.format(xxx))\n",
    "            else :\n",
    "                f.write(str(xxx) + '\\t')\n",
    "        \n",
    "        # 한 success step 다 썼으면 줄 띄우기\n",
    "        f.write('\\n')\n",
    "            \n",
    "    # i 번째 시도 다 썼으면 두 줄 띄우기\n",
    "    f.write('\\n\\n')\n",
    "\n",
    "# 다 썼으면 메모장 닫기\n",
    "f.close()"
   ]
  },
  {
   "cell_type": "code",
   "execution_count": 29,
   "metadata": {
    "collapsed": true
   },
   "outputs": [],
   "source": [
    "# data_fail 저장하기\n",
    "\n",
    "# 저장할 메모장 열기\n",
    "f = open(save_path + \"fail.txt\", 'w')\n",
    "\n",
    "data_list_fail = ['trial', 'step', 'f_reason', 'last y', 'I index',\n",
    "                      'x_loc', 'x_vel', 'theta_loc', 'theta_vel']\n",
    "\n",
    "# data list 넣기\n",
    "for xx in data_list_fail:\n",
    "    f.write(xx + '\\t')\n",
    "f.write('\\n')\n",
    "\n",
    "# fail 데이터 넣기\n",
    "for i,x in enumerate(data_fail):\n",
    "    for xx in x:\n",
    "        f.write(str(xx) + '\\t')\n",
    "        \n",
    "    # 줄 띄우기\n",
    "    f.write('\\n')\n",
    "\n",
    "# 다 썼으면 메모장 닫기\n",
    "f.close()"
   ]
  },
  {
   "cell_type": "code",
   "execution_count": 26,
   "metadata": {
    "collapsed": true
   },
   "outputs": [],
   "source": [
    "# npy로 저장\n",
    "np.save(save_path + 'fail', data_fail)"
   ]
  }
 ],
 "metadata": {
  "kernelspec": {
   "display_name": "Python 3",
   "language": "python",
   "name": "python3"
  },
  "language_info": {
   "codemirror_mode": {
    "name": "ipython",
    "version": 3
   },
   "file_extension": ".py",
   "mimetype": "text/x-python",
   "name": "python",
   "nbconvert_exporter": "python",
   "pygments_lexer": "ipython3",
   "version": "3.6.4"
  },
  "varInspector": {
   "cols": {
    "lenName": 16,
    "lenType": 16,
    "lenVar": 40
   },
   "kernels_config": {
    "python": {
     "delete_cmd_postfix": "",
     "delete_cmd_prefix": "del ",
     "library": "var_list.py",
     "varRefreshCmd": "print(var_dic_list())"
    },
    "r": {
     "delete_cmd_postfix": ") ",
     "delete_cmd_prefix": "rm(",
     "library": "var_list.r",
     "varRefreshCmd": "cat(var_dic_list()) "
    }
   },
   "position": {
    "height": "470px",
    "left": "1123px",
    "right": "20px",
    "top": "92px",
    "width": "655px"
   },
   "types_to_exclude": [
    "module",
    "function",
    "builtin_function_or_method",
    "instance",
    "_Feature"
   ],
   "window_display": false
  }
 },
 "nbformat": 4,
 "nbformat_minor": 2
}
